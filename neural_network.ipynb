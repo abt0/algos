{
  "nbformat": 4,
  "nbformat_minor": 0,
  "metadata": {
    "colab": {
      "provenance": [],
      "authorship_tag": "ABX9TyPmc0KKCsbjwX+WbFFTV9DY"
    },
    "kernelspec": {
      "name": "python3",
      "display_name": "Python 3"
    },
    "language_info": {
      "name": "python"
    }
  },
  "cells": [
    {
      "cell_type": "code",
      "execution_count": null,
      "metadata": {
        "id": "87E5CMeJ5AaK"
      },
      "outputs": [],
      "source": [
        "import matplotlib.pyplot as plt\n",
        "import numpy as np\n",
        "\n",
        "# for logistic sigmoid function (a.ka. expit)\n",
        "# import of sigmoid and crossentropy\n",
        "from scipy.special import expit\n",
        "from sklearn.metrics import log_loss\n",
        "from keras.datasets import mnist\n",
        "from keras.utils.np_utils import to_categorical\n",
        "# np.random.seed(1234)\n",
        "%matplotlib inline\n",
        "import sys"
      ]
    },
    {
      "cell_type": "code",
      "source": [
        "from sklearn.datasets import load_iris\n",
        "iris = load_iris()\n",
        "print('number of samples: {}'.format(len(iris.data)))"
      ],
      "metadata": {
        "colab": {
          "base_uri": "https://localhost:8080/"
        },
        "id": "zo4opU0G5LfN",
        "outputId": "3a629166-2267-4881-8609-3ddb41c483db"
      },
      "execution_count": null,
      "outputs": [
        {
          "output_type": "stream",
          "name": "stdout",
          "text": [
            "number of samples: 150\n"
          ]
        }
      ]
    },
    {
      "cell_type": "code",
      "source": [
        "# access the data and split into helper arrays.\n",
        "x1 = iris.data\n",
        "y1 = iris.target\n",
        "\n",
        "# The samples are ordered by target class # in the original dataset.\n",
        "# As a first step, we shuffle the order before splitting the data into\n",
        "# training and test data\n",
        "perm = np.random.permutation(x1.shape[0])\n",
        "y2 = y1[perm]\n",
        "x2 = x1[perm,:]\n",
        "\n",
        "# now we take 90% of the data for trainig and 10% for testing\n",
        "frac_train = 0.9\n",
        "train_index = int(round(len(iris.data)*frac_train))\n",
        "X_train = x2[0:train_index]\n",
        "X_test  = x2[train_index+1:]\n",
        "\n",
        "y_train = y2[0:train_index]\n",
        "y_test  = y2[train_index+1:]\n",
        "\n",
        "# convert the class number into one-hot encoding.\n",
        "# e.g. target class 2 -> [0,0,1]\n",
        "n_classes = 3\n",
        "y_train = to_categorical(y_train, n_classes)\n",
        "y_test = to_categorical(y_test, n_classes)"
      ],
      "metadata": {
        "id": "LoE4FVId5PDU"
      },
      "execution_count": null,
      "outputs": []
    },
    {
      "cell_type": "code",
      "source": [
        "# Forward pass: calculate network response\n",
        "# N.B. need to append as many components to the bias b1 and b2\n",
        "#      as we have elements in each training batch using np.tile\n",
        "def forward_pass(W1, W2, b1, b2, x):\n",
        "  # Input to hidden layer\n",
        "  a1 = np.matmul(W1,x) + np.tile(b1, x.shape[1])  # 100 x 32 (100 variations of weights times 32 solutions per sample)\n",
        "  h1 = np.tanh(a1)  # activation function, hyperbolic tangent element-wise [-1,1]\n",
        "\n",
        "  # Hidden to outpt layer\n",
        "  a2 = np.matmul(W2, h1) + np.tile(b2, x.shape[1]) # 3 x 100 * 100 x 32 = 3 x 32 (3 solutions per 32 samples) - returns predictions\n",
        "\n",
        "  # Output layer has sigmoid activation\n",
        "  y_hat = expit(a2)  # activation function [0, 1]\n",
        "\n",
        "  return a1, h1, a2, y_hat\n",
        "\n",
        "# Backward pass: calculate changes to weights\n",
        "def backward_pass_backprop(e, h1, W2, a1, x):\n",
        "  dW2 = -np.matmul(e, np.transpose(h1))\n",
        "  da1 =  np.matmul(np.transpose(W2),e)*(1-np.tanh(a1)**2)\n",
        "  dW1 = -np.matmul(da1, np.transpose(x))\n",
        "\n",
        "  # Change in bias b1 and b2:\n",
        "  db2 = -np.sum(e, axis=1)\n",
        "  db1 = -np.sum(da1, axis=1)\n",
        "\n",
        "  return dW1, dW2, db1[:, np.newaxis], db2[:,np.newaxis]\n",
        "\n",
        "def xavier_initialization(shape):\n",
        "  fan_in, fan_out = shape\n",
        "  limit = np.sqrt(6 / (fan_in + fan_out))\n",
        "  return np.random.uniform(-limit, limit, size=shape)"
      ],
      "metadata": {
        "id": "IYr2PqDu5mtV"
      },
      "execution_count": null,
      "outputs": []
    },
    {
      "cell_type": "code",
      "source": [
        "# Network parameters\n",
        "n_input  = 4  # number of input neurons (4 features)\n",
        "n_hidden = 100 # number of neurons in the hidden layer\n",
        "n_output = n_classes  # number of neurons in the output layer - number of classes\n",
        "\n",
        "batch_size = 32\n",
        "learn_rate = 1e-4\n",
        "n_epochs   = 100\n",
        "\n",
        "# we need to change the shape of the data from a long array\n",
        "# with four variables per observation to an array with the four\n",
        "# input variables, each with the observations (per variable)\n",
        "# and accordingly for the output for the calculations of the weights.\n",
        "x = np.transpose(X_train)  # 4 x 135\n",
        "y = np.transpose(y_train)  # 3 x 135\n",
        "\n",
        "# Initialize network weights\n",
        "W1 = np.random.standard_normal(size=(n_hidden, n_input))  # 100 x 4\n",
        "W2 = np.random.standard_normal(size=(n_output, n_hidden))  # 3 x 100\n",
        "b1 = np.random.standard_normal(size=(n_hidden, 1))\n",
        "b2 = np.random.standard_normal(size=(n_output, 1))\n",
        "\n",
        "# W1 = np.random.standard_normal(size=(n_hidden, n_input), mu=0, sigma=np.sqrt(2/4))  # 100 x 4\n",
        "# W2 = np.random.standard_normal(size=(n_output, n_hidden), mu=0, sigma=np.sqrt(2/100))  # 3 x 100\n",
        "# b1 = np.random.standard_normal(size=(n_hidden, 1), mu=0, sigma=np.sqrt(2/100))\n",
        "# b2 = np.random.standard_normal(size=(n_output, 1), mu=0, sigma=np.sqrt(2/3))\n",
        "\n",
        "# W1 = xavier_initialization((n_hidden, n_input))\n",
        "# W2 = xavier_initialization((n_output, n_hidden))\n",
        "# b1 = xavier_initialization((n_hidden, 1))\n",
        "# b2 = xavier_initialization((n_output, 1))\n",
        "\n",
        "dataset_size = x.shape[1]\n",
        "n_batches = dataset_size//batch_size\n",
        "print('Dataset size: {}, batch_size: {}, number of batches {}'.format(dataset_size, batch_size, n_batches))\n",
        "\n",
        "# save the total error for each epoch, summed over all batches\n",
        "train_error_epoch = []\n",
        "\n",
        "\n",
        "\n",
        "for i in range(n_epochs):\n",
        "  # Shuffle training data\n",
        "  perm = np.random.permutation(x.shape[1])\n",
        "  x = x[:, perm]\n",
        "  y = y[:, perm]\n",
        "\n",
        "  # Value of loss function and training error\n",
        "  loss = 0.0\n",
        "  train_error = 0.0\n",
        "\n",
        "  # Loop over batches\n",
        "  for j in range(n_batches):\n",
        "    train_data = x[:, j*batch_size:(j+1)*batch_size]  # 4 x 32\n",
        "    targets = y[:, j*batch_size:(j+1)*batch_size]  # 3 x 32\n",
        "\n",
        "    # Forward pass\n",
        "    a1, h1, a2, y_hat = forward_pass(W1=W1, W2=W2, b1=b1, b2=b2, x=train_data)\n",
        "\n",
        "    # Metrics\n",
        "    error = y_hat - targets\n",
        "\n",
        "    # Due to one-hot encoding, each prediction and true label is an array, recover the class number via np.argmax\n",
        "    preds = np.argmax(y_hat, axis=0)\n",
        "    truth = np.argmax(targets, axis=0)\n",
        "\n",
        "    # Error is the difference between prediction and true, summed over all elements in the batch\n",
        "    train_error += np.sum(preds!=truth)\n",
        "\n",
        "    # Cross entropy loss\n",
        "    loss_on_batch = log_loss(targets, y_hat)\n",
        "\n",
        "    # Calculate change of weights - backward pass\n",
        "    dW1, dW2, db1, db2 = backward_pass_backprop(e=error, h1=h1, W2=W2, a1=a1, x=train_data)\n",
        "\n",
        "    # Weight update\n",
        "    W1 += learn_rate * dW1\n",
        "    W2 += learn_rate * dW2\n",
        "    b1 += learn_rate * db1\n",
        "    b2 += learn_rate * db2\n",
        "    loss += loss_on_batch\n",
        "\n",
        "  # Update errors per epoch\n",
        "  training_error = 100.*train_error/x.shape[1]\n",
        "  train_error_epoch.append(training_error)"
      ],
      "metadata": {
        "colab": {
          "base_uri": "https://localhost:8080/"
        },
        "id": "N8Flyx4-7_en",
        "outputId": "d0792706-a1ef-49c2-bab1-a9f26093f31a"
      },
      "execution_count": null,
      "outputs": [
        {
          "output_type": "stream",
          "name": "stdout",
          "text": [
            "Dataset size: 135, batch_size: 32, number of batches 4\n"
          ]
        }
      ]
    },
    {
      "cell_type": "code",
      "source": [
        "x = range(0,n_epochs)\n",
        "plt.plot(x, train_error_epoch, label='training error')\n",
        "plt.title('Network training error')\n",
        "plt.xlabel('Epochs')\n",
        "plt.ylabel('Training error %')\n",
        "#plt.legend(loc='best')\n",
        "plt.show()"
      ],
      "metadata": {
        "colab": {
          "base_uri": "https://localhost:8080/",
          "height": 472
        },
        "id": "qw5btrx88EEh",
        "outputId": "64e95f3e-57f7-445e-fe53-6c7ba94a14e9"
      },
      "execution_count": null,
      "outputs": [
        {
          "output_type": "display_data",
          "data": {
            "text/plain": [
              "<Figure size 640x480 with 1 Axes>"
            ],
            "image/png": "[encoded data removed]"
          },
          "metadata": {}
        }
      ]
    },
    {
      "cell_type": "code",
      "source": [
        "test_samples = np.transpose(X_test)\n",
        "test_targets = np.transpose(y_test)\n",
        "\n",
        "y_hats = forward_pass(W1, W2, b1, b2, test_samples)[-1]\n",
        "preds = np.argmax(y_hats, axis=0)\n",
        "truth = np.argmax(test_targets, axis=0)\n",
        "test_error = 1.*np.sum(preds!=truth)/preds.shape[0]\n",
        "\n",
        "print(W1.shape)\n",
        "\n",
        "print('Test error:', test_error * 100, '%')\n",
        "print(preds)\n",
        "print(truth)"
      ],
      "metadata": {
        "colab": {
          "base_uri": "https://localhost:8080/"
        },
        "id": "jg7rsKdu8IV6",
        "outputId": "de76b003-0c16-4f0f-b237-7e28ae1ecb14"
      },
      "execution_count": null,
      "outputs": [
        {
          "output_type": "stream",
          "name": "stdout",
          "text": [
            "(100, 4)\n",
            "Test error: 0.0 %\n",
            "[2 0 2 0 0 2 1 0 1 2 0 1 0 0]\n",
            "[2 0 2 0 0 2 1 0 1 2 0 1 0 0]\n"
          ]
        }
      ]
    }
  ]
}